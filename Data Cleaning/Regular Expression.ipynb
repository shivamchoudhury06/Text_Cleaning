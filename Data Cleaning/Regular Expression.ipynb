{
 "cells": [
  {
   "cell_type": "code",
   "execution_count": 1,
   "metadata": {},
   "outputs": [],
   "source": [
    "import re"
   ]
  },
  {
   "cell_type": "code",
   "execution_count": 6,
   "metadata": {},
   "outputs": [
    {
     "name": "stdout",
     "output_type": "stream",
     "text": [
      "<re.Match object; span=(0, 6), match='tiger '>\n",
      "tiger \n",
      "None\n"
     ]
    }
   ],
   "source": [
    "string =\"tiger is the national animal of india \"\n",
    "pattern1 = \"tiger \"\n",
    "pattern2 = \"lion\"\n",
    "\n",
    "mo=re.match(pattern1,string)\n",
    "mo1=re.match(pattern2,string)\n",
    "print(mo)\n",
    "print(mo.group(0))\n",
    "print(mo1)\n",
    "\n"
   ]
  },
  {
   "cell_type": "code",
   "execution_count": 8,
   "metadata": {},
   "outputs": [
    {
     "name": "stdout",
     "output_type": "stream",
     "text": [
      "<re.Match object; span=(13, 21), match='national'>\n",
      "national\n"
     ]
    }
   ],
   "source": [
    "pattern3=\"national\"\n",
    "mo=re.search(pattern3,string)\n",
    "print(mo)\n",
    "print(mo.group(0))\n"
   ]
  },
  {
   "cell_type": "code",
   "execution_count": 9,
   "metadata": {},
   "outputs": [
    {
     "data": {
      "text/plain": [
       "'The difference between search and match is in search it only search the first word and in match it searches the word in \\n\\n    the whole sentence.'"
      ]
     },
     "execution_count": 9,
     "metadata": {},
     "output_type": "execute_result"
    }
   ],
   "source": [
    "\"\"\"The difference between search and match is in search it only search the first word and in match it searches the word in \\n\n",
    "    the whole sentence.\"\"\""
   ]
  },
  {
   "cell_type": "code",
   "execution_count": 11,
   "metadata": {},
   "outputs": [
    {
     "data": {
      "text/plain": [
       "['national', 'national']"
      ]
     },
     "execution_count": 11,
     "metadata": {},
     "output_type": "execute_result"
    }
   ],
   "source": [
    "string =\"tiger is the national animal of india and national sports is hockey\"\n",
    "pattern=\"national\"\n",
    "\n",
    "re.findall(pattern,string)"
   ]
  },
  {
   "cell_type": "code",
   "execution_count": null,
   "metadata": {},
   "outputs": [],
   "source": [
    "mo=re.finditer(pattern,string)\n",
    "for m in mo:\n",
    "    print(m.string)"
   ]
  }
 ],
 "metadata": {
  "kernelspec": {
   "display_name": "Python 3",
   "language": "python",
   "name": "python3"
  },
  "language_info": {
   "codemirror_mode": {
    "name": "ipython",
    "version": 3
   },
   "file_extension": ".py",
   "mimetype": "text/x-python",
   "name": "python",
   "nbconvert_exporter": "python",
   "pygments_lexer": "ipython3",
   "version": "3.7.6"
  }
 },
 "nbformat": 4,
 "nbformat_minor": 4
}
